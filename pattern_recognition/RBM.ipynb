{
  "nbformat": 4,
  "nbformat_minor": 0,
  "metadata": {
    "colab": {
      "provenance": [],
      "authorship_tag": "ABX9TyPbK8W12/8pxeAgTOImv27X"
    },
    "kernelspec": {
      "name": "python3",
      "display_name": "Python 3"
    },
    "language_info": {
      "name": "python"
    }
  },
  "cells": [
    {
      "cell_type": "markdown",
      "source": [
        "# RBM (Restrictive Boltzmann Machine)"
      ],
      "metadata": {
        "id": "zfiQg8cqPgy5"
      }
    },
    {
      "cell_type": "markdown",
      "source": [
        "**Energy based model**\n",
        "\n",
        "> Assigns lower energy values to more relevant features and higher energy values for less important features.\n",
        "\n",
        "> **Objective**: minimize the energy value.\n",
        "\n",
        "\n",
        "> **Restrictive**: because the neurons inside the same layer are not connected, but they are fully connected with the neurons in the next layer.\n",
        "\n",
        "To find the optimal weight W, which minimizes the energy function E, we use **SGD**(Stochastic Gradient Descent). For this we need to compute the derivative of E with respect to v and h (visible and hidden neuron's input), which in turn gives us 2 terms, a positive and negative gradient. \n",
        "\n",
        "Positive phase increases the probability of the training data, while the negative decreases it.\n",
        "\n",
        "To adjust the weights we use the \"Contrastive Divergence\" algorithm, which build an update matrix that allows to alter incrementally the value of W.\n",
        "W_new = W + learning_rate * CD\n",
        "\n",
        "The RBM is trained through several forward and backward passes until it is able to extract the most important features/patterns.\n",
        "> * **Forward pass**: input processing\n",
        "> * **Backward pass**: reconstruction\n"
      ],
      "metadata": {
        "id": "DjvMHH0pjt_o"
      }
    },
    {
      "cell_type": "code",
      "source": [
        "import tensorflow as tf\n",
        "import numpy as np\n",
        "import matplotlib.pyplot as plt\n",
        "%matplotlib inline"
      ],
      "metadata": {
        "id": "agjhCl4ZGNik"
      },
      "execution_count": 137,
      "outputs": []
    },
    {
      "cell_type": "code",
      "source": [
        "class RBM():\n",
        "  def __init__(self, nv, nh):\n",
        "    \"\"\"\n",
        "    nv = nr of neurons in the visible layer\n",
        "    nh = nr of neurons in the hidden layer\n",
        "    \"\"\"\n",
        "    self.nv = nv\n",
        "    self.nh = nh\n",
        "\n",
        "    # initiliaze the weight matrix\n",
        "    self.W = tf.Variable(tf.random.normal([self.nv, self.nh]))\n",
        "    # bias for hidden layer (initialized with 0)\n",
        "    self.hb = tf.Variable(np.zeros(self.nh).astype(np.float32))\n",
        "    # bias for visible layer (initialized with 0)\n",
        "    self.vb = tf.Variable(np.zeros(self.nv).astype(np.float32))\n",
        "\n",
        "  def forward_pass(self, v):\n",
        "    \"\"\"\n",
        "     forward pass: compute a sample hidden activation vector (h)\n",
        "    \"\"\"\n",
        "    _h = tf.nn.sigmoid(tf.matmul(v, self.W) + self.hb)\n",
        "    # compute probability using a relu function\n",
        "    h = tf.nn.relu(tf.sign(_h - tf.random.uniform(tf.shape(_h))))\n",
        "    return h\n",
        "\n",
        "  def backward_pass(self, h):\n",
        "    \"\"\"\n",
        "     backward pass: compute a sample visible activation vector (v)\n",
        "    \"\"\"\n",
        "    _v = tf.nn.sigmoid(tf.matmul(h, tf.transpose(self.W)) + self.vb)\n",
        "    # compute probability using a relu function\n",
        "    v = tf.nn.relu(tf.sign(_v - tf.random.uniform(tf.shape(_v))))\n",
        "    return v\n",
        "\n",
        "  def one_pass(self, v):\n",
        "    \"\"\"\n",
        "    Represent a forward & backward pass through the network\n",
        "    \"\"\"\n",
        "    h = tf.nn.sigmoid(tf.matmul(v, self.W) + self.hb)\n",
        "    return tf.matmul(h, tf.transpose(self.W)) + self.vb\n",
        "\n",
        "  def reconstruct(self, x):\n",
        "    \"\"\"\n",
        "    Return the reconstructed image based on the previously learned weights\n",
        "    \"\"\"\n",
        "    return tf.nn.sigmoid(self.one_pass(x))\n",
        "\n",
        "  def compute_CD(self, v0, h0, v1, h1):\n",
        "    \"\"\"\n",
        "     compute the CD to maximize\n",
        "    \"\"\"\n",
        "    # positive weight gradient\n",
        "    w_pos_grad = tf.matmul(tf.transpose(v0), h0)\n",
        "    # negative weight gradient\n",
        "    w_neg_grad = tf.matmul(tf.transpose(v1), h1)\n",
        "    # compute the difference between these 2 gardients\n",
        "    CD = tf.reduce_mean(w_pos_grad - w_neg_grad)\n",
        "    return CD\n",
        "\n",
        "  def update_CD(self, v0, h0, v1, h1, lr=0.001):\n",
        "    # compute the CD to maximize\n",
        "    CD = self.compute_CD(v0, h0, v1, h1)\n",
        "    # update weights using CD\n",
        "    self.W = self.W + lr * CD\n",
        "    # update the biases\n",
        "    self.vb = self.vb + lr * tf.reduce_mean(v0 - v1, 0)\n",
        "    self.hb = self.hb + lr * tf.reduce_mean(h0 - h1, 0)\n",
        "\n",
        "  def LMS_loss(self, x):\n",
        "    \"\"\"\n",
        "    LMS(Least Mean Squared) error computed based on the original and reconstructed input. \n",
        "    \"\"\"\n",
        "    v = self.one_pass(x)\n",
        "    loss = tf.math.abs(x - v)\n",
        "    return tf.reduce_mean(loss * loss)\n",
        "\n",
        "  def free_energy(self, v):\n",
        "    \"\"\"\n",
        "    Free energy is the energy that a single configuration would need in order to \n",
        "    have the same probability as all configurations containing v.\n",
        "    \"\"\"\n",
        "    # transform the visible bias to a column vector\n",
        "    b = tf.reshape(self.vb, (nv, 1))\n",
        "    visible_term = tf.matmul(v, b)\n",
        "    # transform the result of the matrix multiplication back to a row vector\n",
        "    visible_term = tf.reshape(visible_term, (1,-1))\n",
        "\n",
        "    hidden_term = tf.nn.softplus(tf.matmul(v, self.W) + self.hb)\n",
        "    hidden_term = tf.reduce_sum(hidden_term)\n",
        "\n",
        "    return - visible_term - hidden_term\n",
        "\n",
        "  def update_SGD(self, x, lr=0.001):\n",
        "    \"\"\"\n",
        "    SGD: find the optimal weights which minimize the energy function.\n",
        "    \"\"\"\n",
        "    # gradient descent optimizer used to minize the energy\n",
        "    optimizer = tf.keras.optimizers.experimental.SGD(learning_rate=lr)\n",
        "    \n",
        "    with tf.GradientTape() as tape:\n",
        "      # forward pass: initial hidden prob vector based on the input v0\n",
        "      h = self.forward_pass(x)\n",
        "      # backward pass: reconstruct the input\n",
        "      v = self.backward_pass(h)\n",
        "      # calculate the energy value of x (visible) and v (hidden vector)\n",
        "      energy = tf.reduce_mean(self.free_energy(x) - self.free_energy(v))\n",
        "\n",
        "    # compute the gradients\n",
        "    grads = tape.gradient(energy, [self.W, self.hb, self.vb])\n",
        "    # update the weight and biases\n",
        "    optimizer.apply_gradients(zip(grads, [self.W, self.hb, self.vb]))\n",
        "\n",
        "  def cross_entropy_loss(self, x):\n",
        "    # reconstruct the input \n",
        "    v = self.one_pass(x)\n",
        "    # calculate the cross-entropy loss\n",
        "    loss = tf.nn.sigmoid_cross_entropy_with_logits(labels=x, logits=v)\n",
        "    loss = tf.reduce_mean(loss)\n",
        "    return loss\n",
        "\n",
        "  def train(self, X, lr=0.01, batch_size=64, epochs=15):\n",
        "      nr_inputs = X.shape[0]\n",
        "      train_losses = []\n",
        "\n",
        "      for epoch in range(0, epochs):\n",
        "        epoch_loss = 0\n",
        "        s = 0\n",
        "        for i in range(0, nr_inputs - batch_size, batch_size):\n",
        "          # extract the next batch of data (input to the visible nodes)\n",
        "          x = X[i:i+batch_size].reshape(batch_size, -1)\n",
        "          # update the weight matrix and the visible bias & hidden bias\n",
        "          self.update_SGD(x, lr)\n",
        "          # calculate the loss comparing\n",
        "          # loss = self.LMS_loss(x, v)\n",
        "          loss = self.cross_entropy_loss(x)\n",
        "          epoch_loss += loss\n",
        "          s += 1\n",
        "          train_losses.append(loss)\n",
        "\n",
        "        print('Epoch: ', epoch, ', train loss:', end =\" \")\n",
        "        tf.print(epoch_loss/s)\n",
        "\n",
        "      self.plot_loss(train_losses)\n",
        "\n",
        "      return np.asarray(train_losses).mean()\n",
        "\n",
        "  def test(self, X_test, batch_size=32):\n",
        "      nr_inputs = X_test.shape[0]\n",
        "      test_losses = []\n",
        "\n",
        "      for i in range(0, nr_inputs - batch_size, batch_size):\n",
        "          # extract the next batch of data (input to the visible nodes)\n",
        "          x = X_test[i:i+batch_size].reshape(batch_size, -1)\n",
        "          # calculate the loss\n",
        "          # loss = self.LMS_loss(x)\n",
        "          loss = self.cross_entropy_loss(x)\n",
        "          test_losses.append(loss)\n",
        "\n",
        "      self.plot_loss(test_losses)\n",
        "\n",
        "      return np.asarray(test_losses).mean()\n",
        "\n",
        "  def plot_loss(self, loss):\n",
        "    plt.xlabel(\"Epoch\")\n",
        "    plt.ylabel(\"Loss\")\n",
        "    plt.plot(loss)\n",
        "    plt.show()"
      ],
      "metadata": {
        "id": "r6-3mBATGN4T"
      },
      "execution_count": 199,
      "outputs": []
    },
    {
      "cell_type": "code",
      "source": [
        "def preprocess_input(x):\n",
        "  # shuffle the data\n",
        "  x = np.random.permutation(x)\n",
        "  # normalize input values\n",
        "  x = x / 255.0\n",
        "  x = x.astype(np.float32)\n",
        "  return x"
      ],
      "metadata": {
        "id": "bnqTFfoSQPMJ"
      },
      "execution_count": 168,
      "outputs": []
    },
    {
      "cell_type": "code",
      "source": [
        "# load and prepare the input dataset\n",
        "(x_train, y_train), (x_test, y_test) = tf.keras.datasets.mnist.load_data()\n",
        "X_train = preprocess_input(x_train)\n",
        "X_test = preprocess_input(x_test)"
      ],
      "metadata": {
        "id": "R78geNKkGZ8P"
      },
      "execution_count": 157,
      "outputs": []
    },
    {
      "cell_type": "code",
      "source": [
        "nv = X_train.shape[1] * X_train.shape[2]\n",
        "nh = 100\n",
        "rbm = RBM(nv, nh)"
      ],
      "metadata": {
        "id": "jJ8pIBuwLXkI"
      },
      "execution_count": 200,
      "outputs": []
    },
    {
      "cell_type": "code",
      "source": [
        "# train the model\n",
        "train_error = rbm.train(X_train)\n",
        "print(\"Train Error: \", train_error)\n",
        "print(\"Train Accuracy: \", 1 - train_error)"
      ],
      "metadata": {
        "colab": {
          "base_uri": "https://localhost:8080/",
          "height": 574
        },
        "id": "Y2UG0CPDQ2rk",
        "outputId": "d8e558cf-f208-4d32-b701-428acda0e698"
      },
      "execution_count": 201,
      "outputs": [
        {
          "output_type": "stream",
          "name": "stdout",
          "text": [
            "Epoch:  0 , train loss: 0.224864423\n",
            "Epoch:  1 , train loss: 0.178789929\n",
            "Epoch:  2 , train loss: 0.166338384\n",
            "Epoch:  3 , train loss: 0.161166385\n",
            "Epoch:  4 , train loss: 0.157812983\n",
            "Epoch:  5 , train loss: 0.155486882\n",
            "Epoch:  6 , train loss: 0.153537631\n",
            "Epoch:  7 , train loss: 0.150881395\n",
            "Epoch:  8 , train loss: 0.148277178\n",
            "Epoch:  9 , train loss: 0.146471903\n",
            "Epoch:  10 , train loss: 0.144987628\n",
            "Epoch:  11 , train loss: 0.143810958\n",
            "Epoch:  12 , train loss: 0.142512277\n",
            "Epoch:  13 , train loss: 0.140841842\n",
            "Epoch:  14 , train loss: 0.139579147\n"
          ]
        },
        {
          "output_type": "display_data",
          "data": {
            "text/plain": [
              "<Figure size 432x288 with 1 Axes>"
            ],
            "image/png": "[encoded data removed]"
          },
          "metadata": {
            "needs_background": "light"
          }
        },
        {
          "output_type": "stream",
          "name": "stdout",
          "text": [
            "Train Error:  0.15702395\n",
            "Train Accuracy:  0.8429760485887527\n"
          ]
        }
      ]
    },
    {
      "cell_type": "code",
      "source": [
        "# test the model on the test set\n",
        "test_error = rbm.test(X_test)\n",
        "print(\"Test Error: \", test_error)\n",
        "print(\"Test Accuracy: \", 1 - test_error)"
      ],
      "metadata": {
        "colab": {
          "base_uri": "https://localhost:8080/",
          "height": 314
        },
        "id": "OhDe2skeQ5gw",
        "outputId": "716b8aa5-3354-45d3-c924-765592dd4aea"
      },
      "execution_count": 202,
      "outputs": [
        {
          "output_type": "display_data",
          "data": {
            "text/plain": [
              "<Figure size 432x288 with 1 Axes>"
            ],
            "image/png": "[encoded data removed]"
          },
          "metadata": {
            "needs_background": "light"
          }
        },
        {
          "output_type": "stream",
          "name": "stdout",
          "text": [
            "Test Error:  0.14019641\n",
            "Test Accuracy:  0.8598035871982574\n"
          ]
        }
      ]
    },
    {
      "cell_type": "code",
      "source": [
        "# verify the model on a few sample data from the test set\n",
        "nr_samples = 3  \n",
        "# generate nr_samples random indices to select a sample subset from the test set\n",
        "rand_indices = np.random.choice(X_test.shape[0], nr_samples, replace=False)\n",
        "rand_samples = X_test[rand_indices]\n",
        "# flatten the image data (matrix of pixels) to a 1D array (feature vector)\n",
        "flattened_samples = rand_samples.reshape(nr_samples, -1)\n",
        "# reconstruct the images\n",
        "reconstructed_samples = rbm.reconstruct(flattened_samples)\n",
        "# cpnvert the 1D outputs to the original 2D image shape\n",
        "reconstructed_samples = reconstructed_samples.numpy().reshape(rand_samples.shape)\n",
        "\n",
        "# display the samples\n",
        "for i in range(0,nr_samples):\n",
        "  fig = plt.figure()\n",
        "  ax1 = fig.add_subplot(1,2,1)\n",
        "  ax1.imshow(rand_samples[i], cmap='gray')\n",
        "  ax2 = fig.add_subplot(1,2,2)\n",
        "  ax2.imshow(reconstructed_samples[i], cmap='gray')"
      ],
      "metadata": {
        "colab": {
          "base_uri": "https://localhost:8080/",
          "height": 569
        },
        "id": "EfeuX_QGRDbc",
        "outputId": "de07ea18-ab71-4bc7-ea47-a7643a41cd10"
      },
      "execution_count": 203,
      "outputs": [
        {
          "output_type": "display_data",
          "data": {
            "text/plain": [
              "<Figure size 432x288 with 2 Axes>"
            ],
            "image/png": "[encoded data removed]"
          },
          "metadata": {
            "needs_background": "light"
          }
        },
        {
          "output_type": "display_data",
          "data": {
            "text/plain": [
              "<Figure size 432x288 with 2 Axes>"
            ],
            "image/png": "[encoded data removed]"
          },
          "metadata": {
            "needs_background": "light"
          }
        },
        {
          "output_type": "display_data",
          "data": {
            "text/plain": [
              "<Figure size 432x288 with 2 Axes>"
            ],
            "image/png": "[encoded data removed]"
          },
          "metadata": {
            "needs_background": "light"
          }
        }
      ]
    }
  ]
}